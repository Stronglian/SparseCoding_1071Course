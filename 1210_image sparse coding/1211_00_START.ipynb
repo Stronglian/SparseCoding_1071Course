{
 "cells": [
  {
   "cell_type": "markdown",
   "metadata": {},
   "source": [
    "承接 1210_00_start.py"
   ]
  },
  {
   "cell_type": "markdown",
   "metadata": {},
   "source": [
    "參考: \n",
    "0. 一直不漂亮的進度條\n",
    " - \n",
    "https://stackoverflow.com/questions/7715594/how-to-reset-cursor-to-the-beginning-of-the-same-line-in-python\n",
    "0. 想要關掉 jupyter 後仍運行\n",
    " - http://liuchengxu.org/pelican-blog/jupyter-notebook-tips.html\n",
    "0. 未用: \n",
    " - https://github.com/Deepayan137/K-svd"
   ]
  },
  {
   "cell_type": "code",
   "execution_count": null,
   "metadata": {},
   "outputs": [],
   "source": [
    "import numpy as np\n",
    "import cv2\n",
    "from matplotlib import pyplot as plt"
   ]
  },
  {
   "cell_type": "code",
   "execution_count": null,
   "metadata": {},
   "outputs": [],
   "source": [
    "import time"
   ]
  },
  {
   "cell_type": "code",
   "execution_count": null,
   "metadata": {},
   "outputs": [],
   "source": [
    "class OMP_SVD: #兩個 class 合併成 sparse codeing 吧\n",
    "    def __init__(self, dictionary, dataAll, letter):\n",
    "        \"\"\"  \"\"\"\n",
    "        self.D = np.matrix(dictionary.copy())\n",
    "        self.X = np.matrix(dataAll.copy())\n",
    "        self.L = letter\n",
    "        \n",
    "        self.atomNum = self.D.shape[1]\n",
    "        \n",
    "        #print( \"長度\", D_org.shape[0], \"的 有\", D_org.shape[1], \"個\")\n",
    "        print( \"D: shape\",self.D.shape,\"mean: There are\", self.D.shape[1], \"atoms with\",\"length\", self.D.shape[0])\n",
    "        print( \"X: shape\",self.X.shape,\"mean: There are\", self.X.shape[1], \"signals with\",\"length\", self.X.shape[0])\n",
    "        print( \"A: shape will be\", (self.D.shape[1], self.X.shape[1]))\n",
    "        \n",
    "        return\n",
    "    def SetDictionary(self, inputDictionary):\n",
    "        self.D = inputDictionary.copy()\n",
    "        return\n",
    "    def SetAlpha(self, inputAlpha):\n",
    "        self.A = inputAlpha.copy()\n",
    "        return\n",
    "    def Cal_OneX_alpha_OMP(self, inputX, L, boolDeubg = False):\n",
    "        \"\"\" \n",
    "        算單一 signal (Xi) 的 alpha\n",
    "        \"\"\"\n",
    "        #\n",
    "        residual = inputX.copy()\n",
    "        alpha = np.matrix(np.zeros((self.D.shape[1], 1))) #sparse code\n",
    "        # D 轉換\n",
    "        unusedD = self.D.copy()\n",
    "        usedD = np.zeros_like(self.D.copy())\n",
    "        for i in range(L):\n",
    "            if boolDeubg:\n",
    "                print(\"\\niter:\", i)\n",
    "            # 算相似度\n",
    "            correlated = residual.T * unusedD # np.dot(residual.T , unusedD) in matrix\n",
    "            if boolDeubg:\n",
    "                print(\"correlated\", correlated)\n",
    "            d_i = np.argmax( np.abs(correlated))\n",
    "            \n",
    "            if boolDeubg:\n",
    "                print(\"d_i\", d_i, alpha.shape)\n",
    "            # 使用過不再使用\n",
    "            usedD[:, d_i] = unusedD[:, d_i].copy()\n",
    "            unusedD[:, d_i].fill(0)\n",
    "            # 重新計算比例\n",
    "            if i != 0 :#or True: # 第一次到底要不要更新呢~\n",
    "                alpha = np.linalg.lstsq(usedD, inputX, rcond = None) [0]\n",
    "#                alpha = np.linalg.pinv(usedD.T * usedD) * usedD.T * inputX\n",
    "            else:\n",
    "                alpha[d_i, :] = correlated[:, d_i]\n",
    "            \n",
    "            if boolDeubg:\n",
    "                print(\"alpha\", alpha, sep = \"\\n\")\n",
    "            # 殘差計算\n",
    "            residual = inputX - usedD * alpha\n",
    "            if boolDeubg:\n",
    "                print(\"residual\", residual, sep=\"\\n\")\n",
    "        return alpha\n",
    "    \n",
    "    def Flow_all_OMP(self, L = None, boolDeubg = False, boolProgressShow = False):\n",
    "        \"\"\"  \"\"\"\n",
    "        alphaALL = np.matrix(np.zeros((self.D.shape[1], self.X.shape[1])))\n",
    "        if L is None:\n",
    "            L = self.L\n",
    "        for i in range(self.X.shape[1]):\n",
    "            if boolDeubg:\n",
    "                print(\"data\", i, self.X[:,i].T)\n",
    "            alpha = self.Cal_OneX_alpha_OMP(self.X[:, i], L, boolDeubg = boolDeubg)\n",
    "            alphaALL[:, i] = alpha.copy()\n",
    "            if i % 16 == 0 and boolProgressShow:\n",
    "                print(\"\\r\" , \"[\", i, \"/\", self.X.shape[1], \"]  \", sep = \"\", end = \"\", flush=True)\n",
    "        self.A = alphaALL.copy()\n",
    "        return self.A\n",
    "    \n",
    "    def VarifyAll(self, sparseCode, boolRound = True):\n",
    "        \"\"\"  \"\"\"\n",
    "        X_hat = self.D * np.matrix(sparseCode)\n",
    "        residualALL = np.linalg.norm(self.X - X_hat, ord = 2, axis = 0)\n",
    "        if boolRound:\n",
    "            X_hat = np.round(X_hat, 4)\n",
    "            residualALL = np.round(residualALL, 4)\n",
    "        return X_hat, residualALL\n",
    "\n",
    "    def UpdateDict_useSVD_one(self, indexOfAtom, indexOfData, boolHaoSol = False):\n",
    "#        print(indexOfAtom, \"=>\", indexOfData, \"=\"*10)\n",
    "        if boolHaoSol:\n",
    "            # 一樣結果\n",
    "            t_C = self.A.copy()\n",
    "            t_C[indexOfAtom, indexOfData] = 0\n",
    "#            print(t_C)\n",
    "            tmp_data = self.D * t_C[:, indexOfData]\n",
    "            E = self.X[:, indexOfData] - tmp_data\n",
    "        else:\n",
    "            E = self.X[:, indexOfData] - self.D * self.A[:, indexOfData] + self.D[:, indexOfAtom] * self.A[indexOfAtom, indexOfData]\n",
    "#        print(\"E\", E)\n",
    "        u, s, vh = np.linalg.svd(E) # need trans? 看E的變化應該選這個\n",
    "#        v = vh.T\n",
    "#        print(\"u:\", u, \"s:\", s, \"vh:\", vh, sep = \"\\n\")\n",
    "#        print(\"->new d\"+str(indexOfAtom), u[:, 0].T)\n",
    "        self.D[:, indexOfAtom] = u[:, 0].copy()\n",
    "#        print(\"new d\"+str(indexOfAtom), u[0, :])\n",
    "        newCoe = s[0] * vh[:, 0].T\n",
    "#        print(\"new coe\", newCoe)\n",
    "        self.A[indexOfAtom, indexOfData] = newCoe\n",
    "        return\n",
    "    \n",
    "    def UpdateDict_FLOW(self, boolProgressShow = False):\n",
    "        usedAtomIndex, userX = np.where(self.A!=0)\n",
    "#        print(usedAtomIndex)\n",
    "        for indexOfAtom in range(self.D.shape[1]):\n",
    "#            print(\"\\nindexOfAtom:\", indexOfAtom)#, \"=> d\"+str((indexOfAtom)))\n",
    "            tmp = np.where(usedAtomIndex == indexOfAtom)[0]\n",
    "            if tmp.shape[0] == 0:\n",
    "                continue\n",
    "#            print(np.where(usedAtomIndex == indexOfAtom))\n",
    "#            print(\"=>\", userX[tmp])\n",
    "            self.UpdateDict_useSVD_one(indexOfAtom, userX[tmp])\n",
    "            if indexOfAtom % 5 == 0 and boolProgressShow:\n",
    "#                 print(\"[\", indexOfAtom, \"/\", self.D.shape[1], \"]\")\n",
    "                print(\"\\r\", \"[\", indexOfAtom, \"/\", self.D.shape[1], \"]  \", sep = \"\", end = \"\", flush=True)\n",
    "        return self.D"
   ]
  },
  {
   "cell_type": "code",
   "execution_count": null,
   "metadata": {},
   "outputs": [],
   "source": [
    "#%% 重建 函數狀態\n",
    "# y = noiseImg\n",
    "# A = np.matrix(A)\n",
    "# mu = 1 #μ\n",
    "def Rebuild(y, Rij, A, D, _I, _J, _cols_patch, _rows_patch, mu = 1):\n",
    "    tmp = np.zeros_like(y, dtype = np.float64)\n",
    "    I = np.zeros_like(y, dtype = np.float64)\n",
    "    np.fill_diagonal(I, 1)\n",
    "#     I.fill(1)\n",
    "    count_patch = 0\n",
    "    for _i in range(0, _I, 1):\n",
    "        for _j in range(0, _J, 1):\n",
    "            tmp[_i:_i+_cols_patch, _j:_j+_rows_patch] += (D * A[:, count_patch]).reshape(_cols_patch, _rows_patch, order=\"F\")\n",
    "            count_patch += 1\n",
    "    x = (y + mu*tmp)  / (I + mu * Rij)\n",
    "    return x"
   ]
  },
  {
   "cell_type": "markdown",
   "metadata": {},
   "source": [
    "### 讀取、顯示"
   ]
  },
  {
   "cell_type": "code",
   "execution_count": null,
   "metadata": {},
   "outputs": [],
   "source": [
    "resultImgFolder = \"TMP\"\n",
    "#%% 資料讀取與顯示\n",
    "initailDict = np.load(\"dct_64_256.npy\")\n",
    "noiseImgName = \"noise_barbara_var0.004.jpg\"\n",
    "originalImgName = \"original_128x128_barbara.jpg\"\n",
    "noiseImg = cv2.imread(noiseImgName, cv2.IMREAD_GRAYSCALE)\n",
    "originalImg = cv2.imread(originalImgName)\n",
    "# cv2.imshow(\"noise image\", noiseImg)\n",
    "# cv2.imshow(\"original image\", originalImg)\n",
    "# cv2.waitKey(0)\n",
    "# cv2.destroyAllWindows()\n",
    "plt.imshow(noiseImg, cmap = \"gray\")\n",
    "# plt.imshow(originalImg, cmap = \"gray\")\n",
    "plt.show()"
   ]
  },
  {
   "cell_type": "markdown",
   "metadata": {},
   "source": [
    "### 切片 與 Rij 計算"
   ]
  },
  {
   "cell_type": "code",
   "execution_count": null,
   "metadata": {},
   "outputs": [],
   "source": [
    "#%% 切片 - 設置\n",
    "_rows_patch, _cols_patch = 8,8\n",
    "_rows, _cols = noiseImg.shape[:2]\n",
    "_I = _cols - _cols_patch + 1\n",
    "_J = _rows - _rows_patch + 1\n",
    "X_img = np.zeros((_cols_patch * _rows_patch, \\\n",
    "                  _I * _J))\n",
    "print(X_img.shape)"
   ]
  },
  {
   "cell_type": "raw",
   "metadata": {},
   "source": [
    "a = 10\n",
    "b = 10\n",
    "I = a - 8 +1\n",
    "J = b - 8 +1\n",
    "for i in range(I):\n",
    "    for j in range(J):\n",
    "        print(i*I+j, \"-> (\", i, j+8, end = \")|\")\n",
    "    print()"
   ]
  },
  {
   "cell_type": "code",
   "execution_count": null,
   "metadata": {},
   "outputs": [],
   "source": [
    "#%% 切片執行 與 Rij 計算\n",
    "# Rij\n",
    "# Rij_BIG = np.zeros((_I, _J, _rows_patch*_cols_patch, _rows*_cols), dtype = np.bool) # if not bool, need 56 GB, and memory error\n",
    "Rij_Progressive = np.zeros((_rows, _cols))\n",
    "# 切片\n",
    "count = 0 # _i*_I + _j 或這樣算\n",
    "for _i in range(_I): # _I = _cols - _cols_patch\n",
    "    for _j in range(_J): # _J = _rows - _rows_patch\n",
    "        # 切片\n",
    "        tmpImg =  noiseImg[_i:_i+_cols_patch, _j:_j+_rows_patch].flatten(order=\"F\")\n",
    "        X_img[:, count] = tmpImg.copy()\n",
    "        # 計算 Rij\n",
    "        Rij_Progressive[_i:_i+_cols_patch, _j:_j+_rows_patch] += 1\n",
    "#         _r = 0\n",
    "#         for _i_tmp in range(_i, _i + _cols_patch):\n",
    "#             for _j_tmp in range(_j, _j + _rows_patch):\n",
    "# #                 Rij_BIG[_i, _j, _r, _i_tmp * _cols_patch + _j_tmp] = 1\n",
    "#                 Rij_Progressive[_i_tmp, _j_tmp] += 1\n",
    "#                 _r += 1\n",
    "        count += 1"
   ]
  },
  {
   "cell_type": "raw",
   "metadata": {},
   "source": [
    "# 獲取佔用空間資訊\n",
    "import sys\n",
    "print( sys.getsizeof(Rij), Rij.__sizeof__(), 120*120*64*16384) "
   ]
  },
  {
   "cell_type": "markdown",
   "metadata": {},
   "source": [
    "### 執行"
   ]
  },
  {
   "cell_type": "code",
   "execution_count": null,
   "metadata": {},
   "outputs": [],
   "source": [
    "#%%\n",
    "_startTime = time.time()\n",
    "D = initailDict.copy()\n",
    "# \n",
    "_count_time = 0\n",
    "SP = OMP_SVD(D, X_img, 6)\n",
    "#for _count_time in range(10):"
   ]
  },
  {
   "cell_type": "code",
   "execution_count": null,
   "metadata": {},
   "outputs": [
    {
     "name": "stdout",
     "output_type": "stream",
     "text": [
      "[3312/14641]  /14641]  "
     ]
    }
   ],
   "source": [
    "_startTime_while = time.time()\n",
    "while _count_time < 200:\n",
    "    print(\"\\ntime:\", _count_time)\n",
    "    print(\"cal aplpha\")\n",
    "    A = SP.Flow_all_OMP(boolProgressShow = True)\n",
    "    \n",
    "    print(\"\\nRebuild-\", _count_time)\n",
    "    x = Rebuild(noiseImg, Rij_Progressive, A, D, _I, _J, _cols_patch, _rows_patch)\n",
    "    cv2.imwrite( resultImgFolder + \"/\"+\"result\"+str(_count_time)+\".jpg\", x)\n",
    "    \n",
    "    print(\"\\ncal dictionary\")\n",
    "    D = SP.UpdateDict_FLOW(boolProgressShow = True)\n",
    "    \n",
    "    _count_time += 1\n",
    "_endTime_while = time.time()\n",
    "print(_endTime - _startTime, \"秒過去了\")\n",
    "print(\"Loop cost\", _endTime_while - _startTime_while, \"sec.\")"
   ]
  },
  {
   "cell_type": "code",
   "execution_count": null,
   "metadata": {},
   "outputs": [],
   "source": [
    "A = SP.Flow_all_OMP()"
   ]
  },
  {
   "cell_type": "code",
   "execution_count": null,
   "metadata": {},
   "outputs": [],
   "source": [
    "np.save(\"D_\"+str(_count_time)+\".npy\", D)\n",
    "np.save(\"A_\"+str(_count_time)+\".npy\", A)"
   ]
  },
  {
   "cell_type": "markdown",
   "metadata": {},
   "source": [
    "### 重建"
   ]
  },
  {
   "cell_type": "code",
   "execution_count": null,
   "metadata": {},
   "outputs": [],
   "source": [
    "x = Rebuild(noiseImg, Rij_Progressive, A, D, _I, _J, _cols_patch, _rows_patch)\n",
    "cv2.imwrite( resultImgFolder + \"/\"+\"result\"+\"_END\"+\".jpg\", x)"
   ]
  },
  {
   "cell_type": "code",
   "execution_count": null,
   "metadata": {
    "scrolled": true
   },
   "outputs": [],
   "source": [
    "plt.imshow(x , cmap = \"gray\")\n",
    "plt.show()\n",
    "plt.imshow(originalImg, cmap = \"gray\")\n",
    "plt.show()"
   ]
  },
  {
   "cell_type": "code",
   "execution_count": null,
   "metadata": {},
   "outputs": [],
   "source": []
  },
  {
   "cell_type": "code",
   "execution_count": null,
   "metadata": {},
   "outputs": [],
   "source": []
  }
 ],
 "metadata": {
  "kernelspec": {
   "display_name": "Python 3",
   "language": "python",
   "name": "python3"
  },
  "language_info": {
   "codemirror_mode": {
    "name": "ipython",
    "version": 3
   },
   "file_extension": ".py",
   "mimetype": "text/x-python",
   "name": "python",
   "nbconvert_exporter": "python",
   "pygments_lexer": "ipython3",
   "version": "3.6.5"
  }
 },
 "nbformat": 4,
 "nbformat_minor": 2
}
