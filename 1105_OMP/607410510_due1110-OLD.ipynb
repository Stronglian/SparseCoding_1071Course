{
 "cells": [
  {
   "cell_type": "markdown",
   "metadata": {},
   "source": [
    "交截圖與程式碼。\n",
    "file: \"ex for OMPISTA (student).doc\"\n",
    "OMP only"
   ]
  },
  {
   "cell_type": "markdown",
   "metadata": {},
   "source": [
    "REFER:\n",
    "https://blog.csdn.net/breeze5428/article/details/25122977\n"
   ]
  },
  {
   "cell_type": "markdown",
   "metadata": {},
   "source": [
    "# Orthonormal Matching pursuit"
   ]
  },
  {
   "cell_type": "markdown",
   "metadata": {},
   "source": [
    "Use OMP to solve A sparse coding of X such that  min || DA - X|| \n",
    "where D = [d1  d2  …  d10], X = [x1  x2 … x6] OMP with L = 3, \n",
    "<br\\>Hand-in both (1) python code; (2) snapshots of corresponding answer.\n"
   ]
  },
  {
   "cell_type": "code",
   "execution_count": 1,
   "metadata": {
    "collapsed": true
   },
   "outputs": [],
   "source": [
    "import numpy as np"
   ]
  },
  {
   "cell_type": "code",
   "execution_count": 2,
   "metadata": {
    "collapsed": true
   },
   "outputs": [],
   "source": [
    "#https://docs.scipy.org/doc/scipy-0.14.0/reference/generated/scipy.spatial.distance.cosine.html\n",
    "from scipy.spatial import distance\n",
    "# norm :https://docs.scipy.org/doc/numpy-1.15.1/reference/generated/numpy.linalg.norm.html"
   ]
  },
  {
   "cell_type": "markdown",
   "metadata": {},
   "source": [
    "###### Original Dictionary of 10 atoms:"
   ]
  },
  {
   "cell_type": "code",
   "execution_count": 3,
   "metadata": {
    "collapsed": true
   },
   "outputs": [],
   "source": [
    "D_org = np.array([[ 0.0000, -0.8837, 0.7837,  0.7355, -0.2433, -0.5711,  0.8960,  0.5046,  0.2006, -0.5627],\n",
    "                [-0.2788,  0.2019, 0.6196,  0.6180, -0.1908,  0.2891, -0.2179,  0.5941,  0.2251,  0.8207],\n",
    "                [ 0.9604,  0.4223, 0.0432, -0.2777, -0.9510,  0.7683,  0.3869, -0.6265, -0.9535, -0.0997]])"
   ]
  },
  {
   "cell_type": "code",
   "execution_count": 4,
   "metadata": {
    "collapsed": false
   },
   "outputs": [
    {
     "name": "stdout",
     "output_type": "stream",
     "text": [
      "There are 10 atoms with length 3\n"
     ]
    }
   ],
   "source": [
    "# print( \"長度\", D_org.shape[0], \"的 有\", D_org.shape[1], \"個\")\n",
    "print( \"There are\", D_org.shape[1], \"atoms with\",\"length\", D_org.shape[0])"
   ]
  },
  {
   "cell_type": "raw",
   "metadata": {
    "collapsed": false
   },
   "source": [
    "d1= [ 0     ,-0.2788, 0.9604] #D[:0]\n",
    "d2= [-0.8837, 0.2019, 0.4223]\n",
    "d3= [ 0.7837, 0.6196, 0.0432]\n",
    "d4= [ 0.7355, 0.6180,-0.2777]\n",
    "d5= [-0.2433,-0.1908,-0.9510]\n",
    "d6= [-0.5711, 0.2891, 0.7683]\n",
    "d7= [ 0.8960,-0.2179, 0.3869]\n",
    "d8= [ 0.5046, 0.8941,-0.6265]\n",
    "d9= [ 0.2006, 0.2251,-0.9535]\n",
    "d10=[-0.5627, 0.8207,-0.0997]"
   ]
  },
  {
   "cell_type": "markdown",
   "metadata": {},
   "source": [
    "###### X given samples (6 training samples):"
   ]
  },
  {
   "cell_type": "code",
   "execution_count": 5,
   "metadata": {
    "collapsed": true
   },
   "outputs": [],
   "source": [
    "X=np.array([[-0.9471, -1.0559, -1.2173, -1.3493,  0.1286, -0.4606],\n",
    "   [-0.3744,  1.4725, -0.0412, -0.2611,  0.6565, -0.2624],\n",
    "   [-1.1859,  0.0557, -1.1283,  0.9535, -1.1678, -1.2132]])"
   ]
  },
  {
   "cell_type": "code",
   "execution_count": 6,
   "metadata": {
    "collapsed": false
   },
   "outputs": [
    {
     "name": "stdout",
     "output_type": "stream",
     "text": [
      "There are 6 atoms with length 3\n"
     ]
    }
   ],
   "source": [
    "print( \"There are\", X.shape[1], \"signal with\",\"length\", X.shape[0])"
   ]
  },
  {
   "cell_type": "raw",
   "metadata": {
    "collapsed": true
   },
   "source": [
    "x1=[-0.9471, -0.3744, -1.1859] #X[:,0]\n",
    "x2=[-1.0559,  1.4725,  0.0557]\n",
    "x3=[-1.2173, -0.0412, -1.1283] \n",
    "x4=[-1.3493, -0.2611,  0.9535]\n",
    "x5=[ 0.1286,  0.6565, -1.1678]\n",
    "x6=[-0.4606, -0.2624, -1.2132]"
   ]
  },
  {
   "cell_type": "markdown",
   "metadata": {},
   "source": [
    "###### 範例題目"
   ]
  },
  {
   "cell_type": "code",
   "execution_count": 46,
   "metadata": {
    "collapsed": true
   },
   "outputs": [],
   "source": [
    "D_org = np.array([[0.5774, -0.4083,  0.7071], \n",
    "                  [0.5774, -0.4083,  0.7071],\n",
    "                  [0.5774,  0.8165,  0.    ]]) \n",
    "X = np.array([[0.5,  0.8,  1. ],\n",
    "              [0.3, -0.1,  2. ], \n",
    "              [0.1,  2. , -1.5]])"
   ]
  },
  {
   "cell_type": "markdown",
   "metadata": {},
   "source": [
    "###### 題目指定係數"
   ]
  },
  {
   "cell_type": "code",
   "execution_count": 7,
   "metadata": {
    "collapsed": false
   },
   "outputs": [],
   "source": [
    "L = 2"
   ]
  },
  {
   "cell_type": "markdown",
   "metadata": {},
   "source": [
    "### 模組建置 - MP"
   ]
  },
  {
   "cell_type": "code",
   "execution_count": 198,
   "metadata": {
    "collapsed": false
   },
   "outputs": [],
   "source": [
    "class OMP(): #MP\n",
    "    def __init__(self, dictInput, signalInput, letter):\n",
    "        self.D = dictInput\n",
    "        self.X = signalInput\n",
    "        self.L = letter\n",
    "        \n",
    "        self.atomNum = self.D.shape[1]\n",
    "        \n",
    "    def Normal(self, dictInput):\n",
    "        \"\"\" \"\"\"\n",
    "        dictAfterNorm = np.zero_likes(dictInput)\n",
    "        \n",
    "        return dictAfterNorm\n",
    "    \n",
    "    def VectorSimilarity_Cos(self, vec1, vec2):\n",
    "        \"\"\" 兩向量的cos，不過該函數會 1- 所以補一下\n",
    "        這樣越像會越大，趨近1\n",
    "        \"\"\"\n",
    "        # https://docs.scipy.org/doc/scipy-0.14.0/reference/generated/scipy.spatial.distance.cosine.html\n",
    "        return 1 - distance.cosine(vec1, vec2)\n",
    "    \n",
    "    def Cal_OneX_EveryD(self, x):\n",
    "        \"\"\" 計算單個X與所有字典單元的距離，返回最大\"\"\"\n",
    "        distArr = np.zeros(self.atomNum)\n",
    "        for i in range(self.atomNum):\n",
    "            distArr[i] = self.VectorSimilarity_Cos(x, self.D[:, i])\n",
    "        return  abs(distArr).argmax(), distArr[abs(distArr).argmax()]#abs(distArr).max()\n",
    "    \n",
    "    def Cal_Residual(self, vec1, vec2):\n",
    "        \"\"\" \"\"\"\n",
    "        return vec1 - (np.inner(vec1, vec2)/np.inner(vec2, vec2))*vec2\n",
    "    \n",
    "    def Cal_OneX_alpha_MP(self, inputX, L):\n",
    "        \"\"\" \"\"\"\n",
    "        coefficient = []\n",
    "    \n",
    "        alpha = np.zeros(self.D.shape[1])\n",
    "        residualList = [inputX.T]\n",
    "        count = 0\n",
    "#         for i in range(L):\n",
    "        while np.linalg.norm(alpha, 0) < L: #norm-0 是算非0的數量\n",
    "#             print(\"count-\", count)\n",
    "            # 計算與字典相似度\n",
    "#             d_i, cos= self.Cal_OneX_EveryD(inputX)\n",
    "            d_i, tmpCos= self.Cal_OneX_EveryD(residualList[-1])\n",
    "            # 計算殘差 residual\n",
    "#             tmpResidual = residualList[-1] - (tmpCos/self.VectorSimilarity_Cos(residualList[-1],residualList[-1]))*residualList[-1]\n",
    "            tmpResidual = self.Cal_Residual(residualList[-1], self.D[:, d_i])\n",
    "            residualList.append(tmpResidual)\n",
    "            # 紀錄\n",
    "            coefficient.append((d_i, tmpCos))\n",
    "            alpha[d_i] += tmpCos\n",
    "            count += 1\n",
    "#         print(*residualList, sep='\\n')\n",
    "        return alpha, coefficient\n",
    "    \n",
    "    def Flow_all_MP(self):\n",
    "        \"\"\" \"\"\"\n",
    "        alpha_X_All = np.zeros((self.X.shape[1], self.D.shape[1]))\n",
    "        for x_i in range(self.X.shape[1]):\n",
    "            print(\"#\"+str(x_i), self.X[:, x_i])\n",
    "            alpha_x, coefficient_x= self.Cal_OneX_alpha_MP(self.X[: ,x_i], self.L)\n",
    "            print(\"alpha\", alpha_x)\n",
    "            print(*coefficient_x, sep=\"\\n\")\n",
    "            alpha_X_All[x_i] = alpha_x.copy()\n",
    "            \n",
    "        return alpha_X_All\n",
    "    \n",
    "    def Cal_OneX_alpha_OMP(self, inputX, L):\n",
    "        \"\"\" \"\"\"\n",
    "        alpha = np.zeros(self.D.shape[1])\n",
    "        residual = inputX.copy()\n",
    "        # D 轉換區\n",
    "        unuseD = np.matrix(self.D.copy())\n",
    "        usedD  = np.matrix(np.zeros_like(self.D))\n",
    "#         print(unuseD, usedD, sep=\"\\n\")\n",
    "        d_i_li = []\n",
    "        \n",
    "        count = 0\n",
    "        for i in range(L):\n",
    "            #算相似度\n",
    "            correlated = np.abs(np.dot(residual, unuseD))\n",
    "            correlated = np.round(correlated,4)\n",
    "            d_i = correlated.argmax()\n",
    "            d_i_li.append(d_i)\n",
    "            print(d_i, correlated)\n",
    "            #殘差計算\n",
    "            residual = inputX - correlated[0][d_i] * unuseD[:, d_i].T\n",
    "            residual = np.round(residual, 4)\n",
    "            print(\"residual\", residual[0])\n",
    "            #使用過不再使用\n",
    "            usedD[:, d_i] = unuseD[:, d_i].copy()\n",
    "            unuseD[:, d_i].fill(0)\n",
    "#             print(unuseD, usedD, sep=\"\\n\")\n",
    "            #重新計算比例\n",
    "#             alpha = np.linalg.inv(usedD.T * usedD) * usedD.T * inputX\n",
    "#             alpha = np.linalg.inv(usedD[d_i_li].T * usedD[d_i_li]) * usedD[d_i_li].T * inputX\n",
    "            alpha = np.linalg.inv(usedD.T.T * usedD.T) * usedD.T.T * np.matrix(inputX)\n",
    "            print(alpha)\n",
    "            \n",
    "    def Flow_all_OMP(self):\n",
    "        \"\"\" \"\"\"\n",
    "        alpha_X_All = np.zeros((self.X.shape[1], self.D.shape[1]))\n",
    "        for x_i in range(1):#(self.X.shape[1]):\n",
    "            print(\"#\"+str(x_i), self.X[:, x_i])\n",
    "            self.Cal_OneX_alpha_OMP(self.X[: ,x_i], self.L)\n",
    "#             alpha_x, coefficient_x= self.Cal_OneX_alpha_MP(self.X[: ,x_i], self.L)\n",
    "#             print(\"alpha\", alpha_x)\n",
    "#             print(*coefficient_x, sep=\"\\n\")\n",
    "#             alpha_X_All[x_i] = alpha_x.copy()\n",
    "            \n",
    "#         return alpha_X_All"
   ]
  },
  {
   "cell_type": "code",
   "execution_count": 199,
   "metadata": {
    "collapsed": true
   },
   "outputs": [],
   "source": [
    "omp = OMP(D_org, X, 3)"
   ]
  },
  {
   "cell_type": "raw",
   "metadata": {},
   "source": [
    "vec2 = D_org[:,9]\n",
    "print(vec2,\n",
    "omp.VectorSimilarity_Cos(vec2, vec2))"
   ]
  },
  {
   "cell_type": "raw",
   "metadata": {
    "collapsed": false
   },
   "source": [
    "omp.Flow_all_MP()"
   ]
  },
  {
   "cell_type": "code",
   "execution_count": 200,
   "metadata": {
    "collapsed": false,
    "scrolled": true
   },
   "outputs": [
    {
     "name": "stdout",
     "output_type": "stream",
     "text": [
      "#0 [0.5 0.3 0.1]\n",
      "2 [[ 0.5197 -0.245   0.5657]]\n",
      "residual [ 0.1 -0.1  0.1]\n"
     ]
    },
    {
     "ename": "LinAlgError",
     "evalue": "Singular matrix",
     "output_type": "error",
     "traceback": [
      "\u001b[1;31m---------------------------------------------------------------------------\u001b[0m",
      "\u001b[1;31mLinAlgError\u001b[0m                               Traceback (most recent call last)",
      "\u001b[1;32m<ipython-input-200-d4a50010af71>\u001b[0m in \u001b[0;36m<module>\u001b[1;34m()\u001b[0m\n\u001b[1;32m----> 1\u001b[1;33m \u001b[0momp\u001b[0m\u001b[1;33m.\u001b[0m\u001b[0mFlow_all_OMP\u001b[0m\u001b[1;33m(\u001b[0m\u001b[1;33m)\u001b[0m\u001b[1;33m\u001b[0m\u001b[0m\n\u001b[0m",
      "\u001b[1;32m<ipython-input-198-5c13c2e4bafa>\u001b[0m in \u001b[0;36mFlow_all_OMP\u001b[1;34m(self)\u001b[0m\n\u001b[0;32m    104\u001b[0m         \u001b[1;32mfor\u001b[0m \u001b[0mx_i\u001b[0m \u001b[1;32min\u001b[0m \u001b[0mrange\u001b[0m\u001b[1;33m(\u001b[0m\u001b[1;36m1\u001b[0m\u001b[1;33m)\u001b[0m\u001b[1;33m:\u001b[0m\u001b[1;31m#(self.X.shape[1]):\u001b[0m\u001b[1;33m\u001b[0m\u001b[0m\n\u001b[0;32m    105\u001b[0m             \u001b[0mprint\u001b[0m\u001b[1;33m(\u001b[0m\u001b[1;34m\"#\"\u001b[0m\u001b[1;33m+\u001b[0m\u001b[0mstr\u001b[0m\u001b[1;33m(\u001b[0m\u001b[0mx_i\u001b[0m\u001b[1;33m)\u001b[0m\u001b[1;33m,\u001b[0m \u001b[0mself\u001b[0m\u001b[1;33m.\u001b[0m\u001b[0mX\u001b[0m\u001b[1;33m[\u001b[0m\u001b[1;33m:\u001b[0m\u001b[1;33m,\u001b[0m \u001b[0mx_i\u001b[0m\u001b[1;33m]\u001b[0m\u001b[1;33m)\u001b[0m\u001b[1;33m\u001b[0m\u001b[0m\n\u001b[1;32m--> 106\u001b[1;33m             \u001b[0mself\u001b[0m\u001b[1;33m.\u001b[0m\u001b[0mCal_OneX_alpha_OMP\u001b[0m\u001b[1;33m(\u001b[0m\u001b[0mself\u001b[0m\u001b[1;33m.\u001b[0m\u001b[0mX\u001b[0m\u001b[1;33m[\u001b[0m\u001b[1;33m:\u001b[0m \u001b[1;33m,\u001b[0m\u001b[0mx_i\u001b[0m\u001b[1;33m]\u001b[0m\u001b[1;33m,\u001b[0m \u001b[0mself\u001b[0m\u001b[1;33m.\u001b[0m\u001b[0mL\u001b[0m\u001b[1;33m)\u001b[0m\u001b[1;33m\u001b[0m\u001b[0m\n\u001b[0m\u001b[0;32m    107\u001b[0m \u001b[1;31m#             alpha_x, coefficient_x= self.Cal_OneX_alpha_MP(self.X[: ,x_i], self.L)\u001b[0m\u001b[1;33m\u001b[0m\u001b[1;33m\u001b[0m\u001b[0m\n\u001b[0;32m    108\u001b[0m \u001b[1;31m#             print(\"alpha\", alpha_x)\u001b[0m\u001b[1;33m\u001b[0m\u001b[1;33m\u001b[0m\u001b[0m\n",
      "\u001b[1;32m<ipython-input-198-5c13c2e4bafa>\u001b[0m in \u001b[0;36mCal_OneX_alpha_OMP\u001b[1;34m(self, inputX, L)\u001b[0m\n\u001b[0;32m     96\u001b[0m \u001b[1;31m#             alpha = np.linalg.inv(usedD.T * usedD) * usedD.T * inputX\u001b[0m\u001b[1;33m\u001b[0m\u001b[1;33m\u001b[0m\u001b[0m\n\u001b[0;32m     97\u001b[0m \u001b[1;31m#             alpha = np.linalg.inv(usedD[d_i_li].T * usedD[d_i_li]) * usedD[d_i_li].T * inputX\u001b[0m\u001b[1;33m\u001b[0m\u001b[1;33m\u001b[0m\u001b[0m\n\u001b[1;32m---> 98\u001b[1;33m             \u001b[0malpha\u001b[0m \u001b[1;33m=\u001b[0m \u001b[0mnp\u001b[0m\u001b[1;33m.\u001b[0m\u001b[0mlinalg\u001b[0m\u001b[1;33m.\u001b[0m\u001b[0minv\u001b[0m\u001b[1;33m(\u001b[0m\u001b[0musedD\u001b[0m\u001b[1;33m.\u001b[0m\u001b[0mT\u001b[0m\u001b[1;33m.\u001b[0m\u001b[0mT\u001b[0m \u001b[1;33m*\u001b[0m \u001b[0musedD\u001b[0m\u001b[1;33m.\u001b[0m\u001b[0mT\u001b[0m\u001b[1;33m)\u001b[0m \u001b[1;33m*\u001b[0m \u001b[0musedD\u001b[0m\u001b[1;33m.\u001b[0m\u001b[0mT\u001b[0m\u001b[1;33m.\u001b[0m\u001b[0mT\u001b[0m \u001b[1;33m*\u001b[0m \u001b[0mnp\u001b[0m\u001b[1;33m.\u001b[0m\u001b[0mmatrix\u001b[0m\u001b[1;33m(\u001b[0m\u001b[0minputX\u001b[0m\u001b[1;33m)\u001b[0m\u001b[1;33m\u001b[0m\u001b[0m\n\u001b[0m\u001b[0;32m     99\u001b[0m             \u001b[0mprint\u001b[0m\u001b[1;33m(\u001b[0m\u001b[0malpha\u001b[0m\u001b[1;33m)\u001b[0m\u001b[1;33m\u001b[0m\u001b[0m\n\u001b[0;32m    100\u001b[0m \u001b[1;33m\u001b[0m\u001b[0m\n",
      "\u001b[1;32m~\\Anaconda3\\lib\\site-packages\\numpy\\linalg\\linalg.py\u001b[0m in \u001b[0;36minv\u001b[1;34m(a)\u001b[0m\n\u001b[0;32m    526\u001b[0m     \u001b[0msignature\u001b[0m \u001b[1;33m=\u001b[0m \u001b[1;34m'D->D'\u001b[0m \u001b[1;32mif\u001b[0m \u001b[0misComplexType\u001b[0m\u001b[1;33m(\u001b[0m\u001b[0mt\u001b[0m\u001b[1;33m)\u001b[0m \u001b[1;32melse\u001b[0m \u001b[1;34m'd->d'\u001b[0m\u001b[1;33m\u001b[0m\u001b[0m\n\u001b[0;32m    527\u001b[0m     \u001b[0mextobj\u001b[0m \u001b[1;33m=\u001b[0m \u001b[0mget_linalg_error_extobj\u001b[0m\u001b[1;33m(\u001b[0m\u001b[0m_raise_linalgerror_singular\u001b[0m\u001b[1;33m)\u001b[0m\u001b[1;33m\u001b[0m\u001b[0m\n\u001b[1;32m--> 528\u001b[1;33m     \u001b[0mainv\u001b[0m \u001b[1;33m=\u001b[0m \u001b[0m_umath_linalg\u001b[0m\u001b[1;33m.\u001b[0m\u001b[0minv\u001b[0m\u001b[1;33m(\u001b[0m\u001b[0ma\u001b[0m\u001b[1;33m,\u001b[0m \u001b[0msignature\u001b[0m\u001b[1;33m=\u001b[0m\u001b[0msignature\u001b[0m\u001b[1;33m,\u001b[0m \u001b[0mextobj\u001b[0m\u001b[1;33m=\u001b[0m\u001b[0mextobj\u001b[0m\u001b[1;33m)\u001b[0m\u001b[1;33m\u001b[0m\u001b[0m\n\u001b[0m\u001b[0;32m    529\u001b[0m     \u001b[1;32mreturn\u001b[0m \u001b[0mwrap\u001b[0m\u001b[1;33m(\u001b[0m\u001b[0mainv\u001b[0m\u001b[1;33m.\u001b[0m\u001b[0mastype\u001b[0m\u001b[1;33m(\u001b[0m\u001b[0mresult_t\u001b[0m\u001b[1;33m,\u001b[0m \u001b[0mcopy\u001b[0m\u001b[1;33m=\u001b[0m\u001b[1;32mFalse\u001b[0m\u001b[1;33m)\u001b[0m\u001b[1;33m)\u001b[0m\u001b[1;33m\u001b[0m\u001b[0m\n\u001b[0;32m    530\u001b[0m \u001b[1;33m\u001b[0m\u001b[0m\n",
      "\u001b[1;32m~\\Anaconda3\\lib\\site-packages\\numpy\\linalg\\linalg.py\u001b[0m in \u001b[0;36m_raise_linalgerror_singular\u001b[1;34m(err, flag)\u001b[0m\n\u001b[0;32m     87\u001b[0m \u001b[1;33m\u001b[0m\u001b[0m\n\u001b[0;32m     88\u001b[0m \u001b[1;32mdef\u001b[0m \u001b[0m_raise_linalgerror_singular\u001b[0m\u001b[1;33m(\u001b[0m\u001b[0merr\u001b[0m\u001b[1;33m,\u001b[0m \u001b[0mflag\u001b[0m\u001b[1;33m)\u001b[0m\u001b[1;33m:\u001b[0m\u001b[1;33m\u001b[0m\u001b[0m\n\u001b[1;32m---> 89\u001b[1;33m     \u001b[1;32mraise\u001b[0m \u001b[0mLinAlgError\u001b[0m\u001b[1;33m(\u001b[0m\u001b[1;34m\"Singular matrix\"\u001b[0m\u001b[1;33m)\u001b[0m\u001b[1;33m\u001b[0m\u001b[0m\n\u001b[0m\u001b[0;32m     90\u001b[0m \u001b[1;33m\u001b[0m\u001b[0m\n\u001b[0;32m     91\u001b[0m \u001b[1;32mdef\u001b[0m \u001b[0m_raise_linalgerror_nonposdef\u001b[0m\u001b[1;33m(\u001b[0m\u001b[0merr\u001b[0m\u001b[1;33m,\u001b[0m \u001b[0mflag\u001b[0m\u001b[1;33m)\u001b[0m\u001b[1;33m:\u001b[0m\u001b[1;33m\u001b[0m\u001b[0m\n",
      "\u001b[1;31mLinAlgError\u001b[0m: Singular matrix"
     ]
    }
   ],
   "source": [
    "    omp.Flow_all_OMP()"
   ]
  },
  {
   "cell_type": "code",
   "execution_count": null,
   "metadata": {
    "collapsed": true
   },
   "outputs": [],
   "source": []
  },
  {
   "cell_type": "code",
   "execution_count": null,
   "metadata": {
    "collapsed": true
   },
   "outputs": [],
   "source": []
  }
 ],
 "metadata": {
  "anaconda-cloud": {},
  "kernelspec": {
   "display_name": "Python [Root]",
   "language": "python",
   "name": "Python [Root]"
  },
  "language_info": {
   "codemirror_mode": {
    "name": "ipython",
    "version": 3
   },
   "file_extension": ".py",
   "mimetype": "text/x-python",
   "name": "python",
   "nbconvert_exporter": "python",
   "pygments_lexer": "ipython3",
   "version": "3.6.5"
  }
 },
 "nbformat": 4,
 "nbformat_minor": 0
}
