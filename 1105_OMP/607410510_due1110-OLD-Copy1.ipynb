{
 "cells": [
  {
   "cell_type": "markdown",
   "metadata": {},
   "source": [
    "交截圖與程式碼。\n",
    "file: \"ex for OMPISTA (student).doc\"\n",
    "OMP only"
   ]
  },
  {
   "cell_type": "markdown",
   "metadata": {},
   "source": [
    "REFER:\n",
    "https://blog.csdn.net/breeze5428/article/details/25122977\n"
   ]
  },
  {
   "cell_type": "markdown",
   "metadata": {},
   "source": [
    "# Orthonormal Matching pursuit"
   ]
  },
  {
   "cell_type": "markdown",
   "metadata": {},
   "source": [
    "Use OMP to solve A sparse coding of X such that  min || DA - X|| \n",
    "where D = [d1  d2  …  d10], X = [x1  x2 … x6] OMP with L = 3, \n",
    "<br\\>Hand-in both (1) python code; (2) snapshots of corresponding answer.\n"
   ]
  },
  {
   "cell_type": "code",
   "execution_count": 20,
   "metadata": {
    "collapsed": true
   },
   "outputs": [],
   "source": [
    "import numpy as np"
   ]
  },
  {
   "cell_type": "code",
   "execution_count": 21,
   "metadata": {
    "collapsed": true
   },
   "outputs": [],
   "source": [
    "from scipy.spatial import distance"
   ]
  },
  {
   "cell_type": "code",
   "execution_count": 22,
   "metadata": {
    "collapsed": true
   },
   "outputs": [],
   "source": [
    "#https://docs.scipy.org/doc/scipy-0.14.0/reference/generated/scipy.spatial.distance.cosine.html\n",
    "from scipy.spatial import distance\n",
    "# norm :https://docs.scipy.org/doc/numpy-1.15.1/reference/generated/numpy.linalg.norm.html"
   ]
  },
  {
   "cell_type": "markdown",
   "metadata": {},
   "source": [
    "###### Original Dictionary of 10 atoms:"
   ]
  },
  {
   "cell_type": "code",
   "execution_count": 23,
   "metadata": {
    "collapsed": true
   },
   "outputs": [],
   "source": [
    "D_org = np.array([[ 0.0000, -0.8837, 0.7837,  0.7355, -0.2433, -0.5711,  0.8960,  0.5046,  0.2006, -0.5627],\n",
    "                [-0.2788,  0.2019, 0.6196,  0.6180, -0.1908,  0.2891, -0.2179,  0.5941,  0.2251,  0.8207],\n",
    "                [ 0.9604,  0.4223, 0.0432, -0.2777, -0.9510,  0.7683,  0.3869, -0.6265, -0.9535, -0.0997]])"
   ]
  },
  {
   "cell_type": "code",
   "execution_count": 24,
   "metadata": {
    "collapsed": false
   },
   "outputs": [
    {
     "name": "stdout",
     "output_type": "stream",
     "text": [
      "There are 10 atoms with length 3\n"
     ]
    }
   ],
   "source": [
    "# print( \"長度\", D_org.shape[0], \"的 有\", D_org.shape[1], \"個\")\n",
    "print( \"There are\", D_org.shape[1], \"atoms with\",\"length\", D_org.shape[0])"
   ]
  },
  {
   "cell_type": "raw",
   "metadata": {
    "collapsed": false
   },
   "source": [
    "d1= [ 0     ,-0.2788, 0.9604] #D[:0]\n",
    "d2= [-0.8837, 0.2019, 0.4223]\n",
    "d3= [ 0.7837, 0.6196, 0.0432]\n",
    "d4= [ 0.7355, 0.6180,-0.2777]\n",
    "d5= [-0.2433,-0.1908,-0.9510]\n",
    "d6= [-0.5711, 0.2891, 0.7683]\n",
    "d7= [ 0.8960,-0.2179, 0.3869]\n",
    "d8= [ 0.5046, 0.8941,-0.6265]\n",
    "d9= [ 0.2006, 0.2251,-0.9535]\n",
    "d10=[-0.5627, 0.8207,-0.0997]"
   ]
  },
  {
   "cell_type": "markdown",
   "metadata": {},
   "source": [
    "###### X given samples (6 training samples):"
   ]
  },
  {
   "cell_type": "code",
   "execution_count": 25,
   "metadata": {
    "collapsed": true
   },
   "outputs": [],
   "source": [
    "X=np.array([[-0.9471, -1.0559, -1.2173, -1.3493,  0.1286, -0.4606],\n",
    "   [-0.3744,  1.4725, -0.0412, -0.2611,  0.6565, -0.2624],\n",
    "   [-1.1859,  0.0557, -1.1283,  0.9535, -1.1678, -1.2132]])"
   ]
  },
  {
   "cell_type": "code",
   "execution_count": 26,
   "metadata": {
    "collapsed": false
   },
   "outputs": [
    {
     "name": "stdout",
     "output_type": "stream",
     "text": [
      "There are 6 signal with length 3\n"
     ]
    }
   ],
   "source": [
    "print( \"There are\", X.shape[1], \"signal with\",\"length\", X.shape[0])"
   ]
  },
  {
   "cell_type": "raw",
   "metadata": {
    "collapsed": true
   },
   "source": [
    "x1=[-0.9471, -0.3744, -1.1859] #X[:,0]\n",
    "x2=[-1.0559,  1.4725,  0.0557]\n",
    "x3=[-1.2173, -0.0412, -1.1283] \n",
    "x4=[-1.3493, -0.2611,  0.9535]\n",
    "x5=[ 0.1286,  0.6565, -1.1678]\n",
    "x6=[-0.4606, -0.2624, -1.2132]"
   ]
  },
  {
   "cell_type": "markdown",
   "metadata": {},
   "source": [
    "###### 範例題目"
   ]
  },
  {
   "cell_type": "code",
   "execution_count": 27,
   "metadata": {
    "collapsed": true
   },
   "outputs": [],
   "source": [
    "D_org = np.array([[0.5774, -0.4083,  0.7071], \n",
    "                  [0.5774, -0.4083,  0.7071],\n",
    "                  [0.5774,  0.8165,  0.    ]]) \n",
    "X = np.array([[0.5,  0.8,  1. ],\n",
    "              [0.3, -0.1,  2. ], \n",
    "              [0.1,  2. , -1.5]])"
   ]
  },
  {
   "cell_type": "markdown",
   "metadata": {},
   "source": [
    "###### 題目指定係數"
   ]
  },
  {
   "cell_type": "code",
   "execution_count": 28,
   "metadata": {
    "collapsed": false
   },
   "outputs": [],
   "source": [
    "L = 2"
   ]
  },
  {
   "cell_type": "markdown",
   "metadata": {},
   "source": [
    "### 模組建置 - MP"
   ]
  },
  {
   "cell_type": "code",
   "execution_count": 29,
   "metadata": {
    "collapsed": false
   },
   "outputs": [],
   "source": [
    "class OMP(): #MP\n",
    "    def __init__(self, dictInput, signalInput, letter):\n",
    "        self.D = dictInput\n",
    "        self.X = signalInput\n",
    "        self.L = letter\n",
    "        \n",
    "        self.atomNum = self.D.shape[1]\n",
    "        \n",
    "        print( \"D: There are\", self.D.shape[1], \"atoms with\",\"length\", self.D.shape[0])\n",
    "        print( \"X: There are\", self.X.shape[1], \"signal with\",\"length\", self.X.shape[0])\n",
    "    def Normal(self, dictInput):\n",
    "        \"\"\" \"\"\"\n",
    "        dictAfterNorm = np.zero_likes(dictInput)\n",
    "        \n",
    "        return dictAfterNorm\n",
    "    \n",
    "    def VectorSimilarity_Cos(self, vec1, vec2):\n",
    "        \"\"\" 兩向量的cos，不過該函數會 1- 所以補一下\n",
    "        這樣越像會越大，趨近1\n",
    "        \"\"\"\n",
    "        # https://docs.scipy.org/doc/scipy-0.14.0/reference/generated/scipy.spatial.distance.cosine.html\n",
    "        return 1 - distance.cosine(vec1, vec2)\n",
    "    \n",
    "    def Cal_OneX_EveryD(self, x):\n",
    "        \"\"\" 計算單個X與所有字典單元的距離，返回最大\"\"\"\n",
    "        distArr = np.zeros(self.atomNum)\n",
    "        for i in range(self.atomNum):\n",
    "            distArr[i] = self.VectorSimilarity_Cos(x, self.D[:, i])\n",
    "        return  abs(distArr).argmax(), distArr[abs(distArr).argmax()] #abs(distArr).max()\n",
    "    \n",
    "    def Cal_Residual(self, vec1, vec2):\n",
    "        \"\"\" \"\"\"\n",
    "#        return vec1 - (np.inner(vec1, vec2)/np.inner(vec2, vec2))*vec2\n",
    "        return vec1 - (np.inner(vec1, vec2))*vec2\n",
    "    \n",
    "    def Cal_OneX_alpha_MP(self, inputX, L):\n",
    "        \"\"\" \"\"\"\n",
    "        coefficient = []\n",
    "    \n",
    "        alpha = np.zeros(self.D.shape[1])\n",
    "        residualList = [inputX.T]\n",
    "        count = 0\n",
    "        while np.linalg.norm(alpha, 0) < L: #norm-0 是算非0的數量\n",
    "#             print(\"count-\", count)\n",
    "            # 計算與字典相似度\n",
    "            d_i, tmpCos= self.Cal_OneX_EveryD(residualList[-1])\n",
    "            # 計算殘差 residual\n",
    "            tmpResidual = self.Cal_Residual(residualList[-1], self.D[:, d_i])\n",
    "            residualList.append(tmpResidual)\n",
    "            # 紀錄\n",
    "            coefficient.append((d_i, tmpCos))\n",
    "            alpha[d_i] += tmpCos\n",
    "            count += 1\n",
    "#         print(*residualList, sep='\\n')\n",
    "        return alpha, coefficient\n",
    "    \n",
    "    def Flow_all_MP(self):\n",
    "        \"\"\" \n",
    "        以 MP 算所有的 X 配合 D 產生的 alpha\n",
    "        \"\"\"\n",
    "        alpha_X_All = np.zeros((self.X.shape[1], self.D.shape[1]))\n",
    "        for x_i in range(self.X.shape[1]):\n",
    "            print(\"#\"+str(x_i), self.X[:, x_i])\n",
    "            alpha_x, coefficient_x= self.Cal_OneX_alpha_MP(self.X[: ,x_i], self.L)\n",
    "            print(\"alpha\", alpha_x)\n",
    "            print(*coefficient_x, sep=\"\\n\")\n",
    "            alpha_X_All[x_i] = alpha_x.copy()\n",
    "        \n",
    "        self.sparseCode_MP = alpha_X_All.T\n",
    "        return self.sparseCode_MP\n",
    "    \n",
    "    def Cal_OneX_alpha_OMP(self, inputX, L, boolRound = False):\n",
    "        \"\"\" \n",
    "        算單一 signal (Xi) 的 alpha\n",
    "        boolRound: 是否約分\n",
    "        \"\"\"\n",
    "        inputX = np.matrix(inputX)\n",
    "        alpha = np.zeros(self.D.shape[1]) #sparse code\n",
    "        residual = inputX.copy()\n",
    "        # D 轉換區\n",
    "        unuseD = np.matrix(self.D.copy())\n",
    "        usedD  = np.matrix(np.zeros_like(unuseD)) \n",
    "        for i in range(L):\n",
    "            #算相似度\n",
    "            correlated = np.dot(residual, unuseD)\n",
    "            if boolRound:\n",
    "                correlated = np.round(correlated,4)\n",
    "            d_i = np.abs(correlated).argmax()\n",
    "#            print( d_i, \"from\", correlated[0])\n",
    "            # 殘差計算\n",
    "            residual = inputX - correlated[0, d_i] * unuseD[:, d_i].T\n",
    "            if boolRound:\n",
    "                residual = np.round(residual, 4)\n",
    "#            print(\"new-residual\", residual[0])\n",
    "            # 使用過不再使用\n",
    "            usedD[:, d_i] = unuseD[:, d_i].copy()\n",
    "            unuseD[:, d_i].fill(0)\n",
    "#            print(unuseD, usedD, sep=\"\\n\")\n",
    "            # 重新計算比例\n",
    "            alpha = np.linalg.pinv(usedD.T * usedD) * usedD.T * inputX.T\n",
    "#            alpha = np.linalg.inv(usedD.T.T * usedD.T) * usedD.T.T * np.matrix(inputX)\n",
    "#            print(\"alpha\",alpha)\n",
    "            \n",
    "        if boolRound:\n",
    "            return np.round(np.array(alpha).T, 4)\n",
    "        else:\n",
    "            return np.array(alpha).T\n",
    "        \n",
    "    def Flow_all_OMP(self, boolRound = False):\n",
    "        \"\"\" \n",
    "        以 OMP 算所有的 X 配合 D 產生的 alpha\n",
    "        \"\"\"\n",
    "#        alpha_X_All = np.zeros((self.X.shape[1], self.D.shape[1]))\n",
    "        alpha_X_All = np.zeros((self.D.shape[1], self.X.shape[1]))\n",
    "        for x_i in range(self.X.shape[1]):\n",
    "#            print(\"\\n#\"+str(x_i+1), self.X[:, x_i], \"=\"*20)\n",
    "            alpha_x = self.Cal_OneX_alpha_OMP(self.X[: ,x_i], self.L, boolRound)\n",
    "#            print(\"alpha\", alpha_x)\n",
    "            alpha_X_All[:, x_i] = alpha_x.copy()\n",
    "#            alpha_X_All[x_i] = alpha_x.copy()\n",
    "#        self.sparseCode_OMP = alpha_X_All.T\n",
    "        self.sparseCode_OMP = alpha_X_All\n",
    "        return self.sparseCode_OMP"
   ]
  },
  {
   "cell_type": "code",
   "execution_count": 30,
   "metadata": {
    "collapsed": false,
    "scrolled": true
   },
   "outputs": [
    {
     "name": "stdout",
     "output_type": "stream",
     "text": [
      "D: There are 3 atoms with length 3\n",
      "X: There are 3 signal with length 3\n"
     ]
    }
   ],
   "source": [
    "omp = OMP(D_org, X, letter=L)"
   ]
  },
  {
   "cell_type": "code",
   "execution_count": null,
   "metadata": {
    "collapsed": true
   },
   "outputs": [],
   "source": []
  },
  {
   "cell_type": "raw",
   "metadata": {
    "collapsed": false
   },
   "source": [
    "for d in range(D_org.shape[1]):\n",
    "    print(D_org[:,d])\n",
    "    print(np.linalg.norm(D_org[:,d], 2))"
   ]
  },
  {
   "cell_type": "code",
   "execution_count": null,
   "metadata": {
    "collapsed": true
   },
   "outputs": [],
   "source": []
  },
  {
   "cell_type": "code",
   "execution_count": 32,
   "metadata": {
    "collapsed": false,
    "scrolled": true
   },
   "outputs": [],
   "source": [
    "boolRound = False #約分與否\n",
    "alpha_X_All = omp.Flow_all_OMP(boolRound = boolRound)"
   ]
  },
  {
   "cell_type": "code",
   "execution_count": 33,
   "metadata": {
    "collapsed": false
   },
   "outputs": [
    {
     "data": {
      "text/plain": [
       "array([[ 0.        ,  1.55878924,  0.86580941],\n",
       "       [ 0.12247397,  1.34715872, -2.44937949],\n",
       "       [ 0.63641087,  0.        ,  0.        ]])"
      ]
     },
     "execution_count": 33,
     "metadata": {},
     "output_type": "execute_result"
    }
   ],
   "source": [
    "alpha_X_All"
   ]
  },
  {
   "cell_type": "code",
   "execution_count": 34,
   "metadata": {
    "collapsed": false
   },
   "outputs": [
    {
     "name": "stdout",
     "output_type": "stream",
     "text": [
      "#0 [0.5 0.3 0.1]\n",
      "alpha [0.         0.47134911 0.95618289]\n",
      "(2, 0.9561828874675149)\n",
      "(1, 0.47134910583033407)\n",
      "#1 [ 0.8 -0.1  2. ]\n",
      "alpha [0.7228974  0.90419442 0.        ]\n",
      "(0, 0.7228973960122489)\n",
      "(1, 0.9041944243908147)\n",
      "#2 [ 1.   2.  -1.5]\n",
      "alpha [ 0.77454604 -0.90973622  0.        ]\n",
      "(1, -0.909736219476591)\n",
      "(0, 0.7745460393731881)\n"
     ]
    }
   ],
   "source": [
    "alpha_X_All = omp.Flow_all_MP()"
   ]
  },
  {
   "cell_type": "code",
   "execution_count": 35,
   "metadata": {
    "collapsed": false
   },
   "outputs": [
    {
     "data": {
      "text/plain": [
       "array([[ 0.        ,  0.7228974 ,  0.77454604],\n",
       "       [ 0.47134911,  0.90419442, -0.90973622],\n",
       "       [ 0.95618289,  0.        ,  0.        ]])"
      ]
     },
     "execution_count": 35,
     "metadata": {},
     "output_type": "execute_result"
    }
   ],
   "source": [
    "alpha_X_All"
   ]
  },
  {
   "cell_type": "code",
   "execution_count": null,
   "metadata": {
    "collapsed": true
   },
   "outputs": [],
   "source": []
  }
 ],
 "metadata": {
  "anaconda-cloud": {},
  "kernelspec": {
   "display_name": "Python [Root]",
   "language": "python",
   "name": "Python [Root]"
  },
  "language_info": {
   "codemirror_mode": {
    "name": "ipython",
    "version": 3
   },
   "file_extension": ".py",
   "mimetype": "text/x-python",
   "name": "python",
   "nbconvert_exporter": "python",
   "pygments_lexer": "ipython3",
   "version": "3.6.5"
  }
 },
 "nbformat": 4,
 "nbformat_minor": 0
}
