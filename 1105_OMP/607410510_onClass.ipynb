{
 "cells": [
  {
   "cell_type": "code",
   "execution_count": 1,
   "metadata": {
    "collapsed": true
   },
   "outputs": [],
   "source": [
    "import numpy as np"
   ]
  },
  {
   "cell_type": "code",
   "execution_count": 20,
   "metadata": {
    "collapsed": true
   },
   "outputs": [],
   "source": [
    "A = np.array([[1,1,1],\n",
    "              [1,1,0],\n",
    "              [0,1,1],\n",
    "              [1,0,0],\n",
    "              [0,0,1]], dtype = np.float)\n",
    "b = np.array([[89],\n",
    "              [67],\n",
    "              [53],\n",
    "              [35],\n",
    "              [20]], dtype = np.float)\n",
    "A = np.matrix([[1,1,1],\n",
    "              [1,1,0],\n",
    "              [0,1,1],\n",
    "              [1,0,0],\n",
    "              [0,0,1]], dtype = np.float)\n",
    "b = np.matrix([[89],\n",
    "              [67],\n",
    "              [53],\n",
    "              [35],\n",
    "              [20]], dtype = np.float)\n",
    "X = np.zeros((3,1), dtype = np.float)"
   ]
  },
  {
   "cell_type": "code",
   "execution_count": 21,
   "metadata": {
    "collapsed": false
   },
   "outputs": [
    {
     "data": {
      "text/plain": [
       "matrix([[ 1.,  1.,  0.,  1.,  0.],\n",
       "        [ 1.,  1.,  1.,  0.,  0.],\n",
       "        [ 1.,  0.,  1.,  0.,  1.]])"
      ]
     },
     "execution_count": 21,
     "metadata": {},
     "output_type": "execute_result"
    }
   ],
   "source": [
    "A.T"
   ]
  },
  {
   "cell_type": "code",
   "execution_count": 22,
   "metadata": {
    "collapsed": false
   },
   "outputs": [
    {
     "data": {
      "text/plain": [
       "matrix([[ 3.,  2.,  1.],\n",
       "        [ 2.,  3.,  2.],\n",
       "        [ 1.,  2.,  3.]])"
      ]
     },
     "execution_count": 22,
     "metadata": {},
     "output_type": "execute_result"
    }
   ],
   "source": [
    "np.dot(A.T,A)"
   ]
  },
  {
   "cell_type": "code",
   "execution_count": 23,
   "metadata": {
    "collapsed": false
   },
   "outputs": [
    {
     "data": {
      "text/plain": [
       "7.9999999999999982"
      ]
     },
     "execution_count": 23,
     "metadata": {},
     "output_type": "execute_result"
    }
   ],
   "source": [
    "np.linalg.det(np.dot(A.T,A))"
   ]
  },
  {
   "cell_type": "code",
   "execution_count": null,
   "metadata": {
    "collapsed": true
   },
   "outputs": [],
   "source": []
  },
  {
   "cell_type": "code",
   "execution_count": 24,
   "metadata": {
    "collapsed": false,
    "scrolled": false
   },
   "outputs": [
    {
     "data": {
      "text/plain": [
       "matrix([[ 5., -4.,  1.],\n",
       "        [-4.,  8., -4.],\n",
       "        [ 1., -4.,  5.]])"
      ]
     },
     "execution_count": 24,
     "metadata": {},
     "output_type": "execute_result"
    }
   ],
   "source": [
    "np.linalg.inv(np.dot(A.T,A)) * np.linalg.det(np.dot(A.T,A))"
   ]
  },
  {
   "cell_type": "code",
   "execution_count": 25,
   "metadata": {
    "collapsed": false
   },
   "outputs": [
    {
     "data": {
      "text/plain": [
       "matrix([[ 0.625, -0.5  ,  0.125],\n",
       "        [-0.5  ,  1.   , -0.5  ],\n",
       "        [ 0.125, -0.5  ,  0.625]])"
      ]
     },
     "execution_count": 25,
     "metadata": {},
     "output_type": "execute_result"
    }
   ],
   "source": [
    "np.linalg.inv(np.dot(A.T,A))"
   ]
  },
  {
   "cell_type": "markdown",
   "metadata": {},
   "source": [
    "$(A.T * A)^(-1)$*A.T"
   ]
  },
  {
   "cell_type": "code",
   "execution_count": 26,
   "metadata": {
    "collapsed": false,
    "scrolled": false
   },
   "outputs": [
    {
     "data": {
      "text/plain": [
       "matrix([[  2.50000000e-01,   1.25000000e-01,  -3.75000000e-01,\n",
       "           6.25000000e-01,   1.25000000e-01],\n",
       "        [  1.11022302e-16,   5.00000000e-01,   5.00000000e-01,\n",
       "          -5.00000000e-01,  -5.00000000e-01],\n",
       "        [  2.50000000e-01,  -3.75000000e-01,   1.25000000e-01,\n",
       "           1.25000000e-01,   6.25000000e-01]])"
      ]
     },
     "execution_count": 26,
     "metadata": {},
     "output_type": "execute_result"
    }
   ],
   "source": [
    "np.dot(np.linalg.inv(np.dot(A.T,A)), A.T)"
   ]
  },
  {
   "cell_type": "code",
   "execution_count": 27,
   "metadata": {
    "collapsed": false
   },
   "outputs": [
    {
     "name": "stdout",
     "output_type": "stream",
     "text": [
      "X_ls\n",
      "[[ 35.125]\n",
      " [ 32.5  ]\n",
      " [ 20.625]]\n"
     ]
    }
   ],
   "source": [
    "X_ls= np.dot(np.dot(np.linalg.inv(np.dot(A.T,A)), A.T), b) #alpha\n",
    "print \"X_ls\\n\", X_ls"
   ]
  },
  {
   "cell_type": "code",
   "execution_count": 28,
   "metadata": {
    "collapsed": false
   },
   "outputs": [
    {
     "name": "stdout",
     "output_type": "stream",
     "text": [
      "AX:\n",
      "[[ 88.25 ]\n",
      " [ 67.625]\n",
      " [ 53.125]\n",
      " [ 35.125]\n",
      " [ 20.625]]\n"
     ]
    }
   ],
   "source": [
    "AX = np.dot(A, X_ls)\n",
    "print \"AX:\\n\", AX"
   ]
  },
  {
   "cell_type": "markdown",
   "metadata": {},
   "source": [
    "交截圖與程式碼。\n",
    "file: \"ex for OMPISTA (student).doc\"\n",
    "OMP only"
   ]
  },
  {
   "cell_type": "code",
   "execution_count": 29,
   "metadata": {
    "collapsed": false
   },
   "outputs": [
    {
     "data": {
      "text/plain": [
       "(matrix([[ 35.125],\n",
       "         [ 32.5  ],\n",
       "         [ 20.625]]),\n",
       " matrix([[ 1.375]]),\n",
       " 3,\n",
       " array([ 2.5243378 ,  1.41421356,  0.79228699]))"
      ]
     },
     "execution_count": 29,
     "metadata": {},
     "output_type": "execute_result"
    }
   ],
   "source": [
    "np.linalg.lstsq(A, b)#, rcond = None)"
   ]
  },
  {
   "cell_type": "code",
   "execution_count": null,
   "metadata": {
    "collapsed": true
   },
   "outputs": [],
   "source": []
  }
 ],
 "metadata": {
  "anaconda-cloud": {},
  "kernelspec": {
   "display_name": "Python [gl-env]",
   "language": "python",
   "name": "Python [gl-env]"
  },
  "language_info": {
   "codemirror_mode": {
    "name": "ipython",
    "version": 2
   },
   "file_extension": ".py",
   "mimetype": "text/x-python",
   "name": "python",
   "nbconvert_exporter": "python",
   "pygments_lexer": "ipython2",
   "version": "2.7.11"
  }
 },
 "nbformat": 4,
 "nbformat_minor": 0
}
